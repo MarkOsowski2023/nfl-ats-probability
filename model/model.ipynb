{
 "cells": [
  {
   "cell_type": "markdown",
   "id": "a456500e",
   "metadata": {},
   "source": [
    "# NFL Against the Spread Classification\n",
    "\n",
    "- Building a classification model to predict if an NFL team will beat, push, or lose to the spread\n",
    "- We will test multiple classification models and parameters to find the best model"
   ]
  },
  {
   "cell_type": "code",
   "execution_count": 19,
   "id": "f7e20958",
   "metadata": {},
   "outputs": [],
   "source": [
    "import pandas as pd\n",
    "import numpy as np\n",
    "import matplotlib.pyplot as plt\n",
    "# scikit-learn\n",
    "\n",
    "from sklearn.preprocessing import StandardScaler, OneHotEncoder\n",
    "from sklearn.model_selection import train_test_split\n",
    "from sklearn.decomposition import PCA\n",
    "from sklearn.compose import ColumnTransformer\n",
    "from sklearn.impute import SimpleImputer\n",
    "from sklearn.compose import make_column_selector as selector\n",
    "# models\n",
    "\n",
    "from sklearn.linear_model import LogisticRegression\n",
    "from sklearn.ensemble import RandomForestClassifier\n",
    "\n",
    "# metrics\n",
    "\n",
    "from sklearn.metrics import confusion_matrix, classification_report\n",
    "from sklearn.metrics import accuracy_score\n",
    "\n",
    "# pipeline and grid search\n",
    "\n",
    "from sklearn.pipeline import Pipeline\n",
    "from sklearn.model_selection import GridSearchCV\n",
    "\n"
   ]
  },
  {
   "cell_type": "code",
   "execution_count": 2,
   "id": "bbfed9a3",
   "metadata": {},
   "outputs": [
    {
     "data": {
      "text/html": [
       "<div>\n",
       "<style scoped>\n",
       "    .dataframe tbody tr th:only-of-type {\n",
       "        vertical-align: middle;\n",
       "    }\n",
       "\n",
       "    .dataframe tbody tr th {\n",
       "        vertical-align: top;\n",
       "    }\n",
       "\n",
       "    .dataframe thead th {\n",
       "        text-align: right;\n",
       "    }\n",
       "</style>\n",
       "<table border=\"1\" class=\"dataframe\">\n",
       "  <thead>\n",
       "    <tr style=\"text-align: right;\">\n",
       "      <th></th>\n",
       "      <th>game_id</th>\n",
       "      <th>season</th>\n",
       "      <th>team</th>\n",
       "      <th>opponent</th>\n",
       "      <th>spread_line</th>\n",
       "      <th>coach</th>\n",
       "      <th>roof</th>\n",
       "      <th>ats_win</th>\n",
       "      <th>location</th>\n",
       "      <th>epa</th>\n",
       "      <th>...</th>\n",
       "      <th>rush_yds_per_attempt</th>\n",
       "      <th>int</th>\n",
       "      <th>fumbles_lost</th>\n",
       "      <th>penalty_yards</th>\n",
       "      <th>def_epa</th>\n",
       "      <th>def_pass_yds_per_attempt</th>\n",
       "      <th>def_rush_yds_per_attempt</th>\n",
       "      <th>def_int</th>\n",
       "      <th>forced_fumbles</th>\n",
       "      <th>def_penlty_yards</th>\n",
       "    </tr>\n",
       "  </thead>\n",
       "  <tbody>\n",
       "    <tr>\n",
       "      <th>0</th>\n",
       "      <td>2001_01_CHI_BAL</td>\n",
       "      <td>2001</td>\n",
       "      <td>BAL</td>\n",
       "      <td>CHI</td>\n",
       "      <td>10.5</td>\n",
       "      <td>Brian Billick</td>\n",
       "      <td>outdoors</td>\n",
       "      <td>win</td>\n",
       "      <td>home</td>\n",
       "      <td>-0.077838</td>\n",
       "      <td>...</td>\n",
       "      <td>1.800000</td>\n",
       "      <td>0</td>\n",
       "      <td>2</td>\n",
       "      <td>15</td>\n",
       "      <td>-0.247703</td>\n",
       "      <td>5.750000</td>\n",
       "      <td>2.000000</td>\n",
       "      <td>2</td>\n",
       "      <td>0</td>\n",
       "      <td>16</td>\n",
       "    </tr>\n",
       "    <tr>\n",
       "      <th>1</th>\n",
       "      <td>2001_01_NO_BUF</td>\n",
       "      <td>2001</td>\n",
       "      <td>BUF</td>\n",
       "      <td>NO</td>\n",
       "      <td>-1.5</td>\n",
       "      <td>Gregg Williams</td>\n",
       "      <td>outdoors</td>\n",
       "      <td>lose</td>\n",
       "      <td>home</td>\n",
       "      <td>-0.340673</td>\n",
       "      <td>...</td>\n",
       "      <td>4.464286</td>\n",
       "      <td>3</td>\n",
       "      <td>0</td>\n",
       "      <td>15</td>\n",
       "      <td>0.040729</td>\n",
       "      <td>11.611111</td>\n",
       "      <td>4.192308</td>\n",
       "      <td>0</td>\n",
       "      <td>0</td>\n",
       "      <td>0</td>\n",
       "    </tr>\n",
       "    <tr>\n",
       "      <th>2</th>\n",
       "      <td>2001_01_NE_CIN</td>\n",
       "      <td>2001</td>\n",
       "      <td>CIN</td>\n",
       "      <td>NE</td>\n",
       "      <td>0.0</td>\n",
       "      <td>Dick LeBeau</td>\n",
       "      <td>outdoors</td>\n",
       "      <td>win</td>\n",
       "      <td>home</td>\n",
       "      <td>0.065117</td>\n",
       "      <td>...</td>\n",
       "      <td>4.757576</td>\n",
       "      <td>0</td>\n",
       "      <td>1</td>\n",
       "      <td>0</td>\n",
       "      <td>0.004959</td>\n",
       "      <td>10.954545</td>\n",
       "      <td>3.238095</td>\n",
       "      <td>0</td>\n",
       "      <td>0</td>\n",
       "      <td>0</td>\n",
       "    </tr>\n",
       "    <tr>\n",
       "      <th>3</th>\n",
       "      <td>2001_01_SEA_CLE</td>\n",
       "      <td>2001</td>\n",
       "      <td>CLE</td>\n",
       "      <td>SEA</td>\n",
       "      <td>-4.0</td>\n",
       "      <td>Butch Davis</td>\n",
       "      <td>outdoors</td>\n",
       "      <td>win</td>\n",
       "      <td>home</td>\n",
       "      <td>-0.137322</td>\n",
       "      <td>...</td>\n",
       "      <td>3.600000</td>\n",
       "      <td>1</td>\n",
       "      <td>0</td>\n",
       "      <td>0</td>\n",
       "      <td>-0.118707</td>\n",
       "      <td>8.900000</td>\n",
       "      <td>3.740741</td>\n",
       "      <td>2</td>\n",
       "      <td>0</td>\n",
       "      <td>15</td>\n",
       "    </tr>\n",
       "    <tr>\n",
       "      <th>4</th>\n",
       "      <td>2001_01_TB_DAL</td>\n",
       "      <td>2001</td>\n",
       "      <td>DAL</td>\n",
       "      <td>TB</td>\n",
       "      <td>-9.0</td>\n",
       "      <td>Dave Campo</td>\n",
       "      <td>outdoors</td>\n",
       "      <td>win</td>\n",
       "      <td>home</td>\n",
       "      <td>-0.429948</td>\n",
       "      <td>...</td>\n",
       "      <td>4.304348</td>\n",
       "      <td>2</td>\n",
       "      <td>1</td>\n",
       "      <td>10</td>\n",
       "      <td>-0.029573</td>\n",
       "      <td>7.800000</td>\n",
       "      <td>2.151515</td>\n",
       "      <td>1</td>\n",
       "      <td>1</td>\n",
       "      <td>0</td>\n",
       "    </tr>\n",
       "  </tbody>\n",
       "</table>\n",
       "<p>5 rows × 21 columns</p>\n",
       "</div>"
      ],
      "text/plain": [
       "           game_id  season team opponent  spread_line           coach  \\\n",
       "0  2001_01_CHI_BAL    2001  BAL      CHI         10.5   Brian Billick   \n",
       "1   2001_01_NO_BUF    2001  BUF       NO         -1.5  Gregg Williams   \n",
       "2   2001_01_NE_CIN    2001  CIN       NE          0.0     Dick LeBeau   \n",
       "3  2001_01_SEA_CLE    2001  CLE      SEA         -4.0     Butch Davis   \n",
       "4   2001_01_TB_DAL    2001  DAL       TB         -9.0      Dave Campo   \n",
       "\n",
       "       roof ats_win location       epa  ...  rush_yds_per_attempt  int  \\\n",
       "0  outdoors     win     home -0.077838  ...              1.800000    0   \n",
       "1  outdoors    lose     home -0.340673  ...              4.464286    3   \n",
       "2  outdoors     win     home  0.065117  ...              4.757576    0   \n",
       "3  outdoors     win     home -0.137322  ...              3.600000    1   \n",
       "4  outdoors     win     home -0.429948  ...              4.304348    2   \n",
       "\n",
       "   fumbles_lost  penalty_yards   def_epa  def_pass_yds_per_attempt  \\\n",
       "0             2             15 -0.247703                  5.750000   \n",
       "1             0             15  0.040729                 11.611111   \n",
       "2             1              0  0.004959                 10.954545   \n",
       "3             0              0 -0.118707                  8.900000   \n",
       "4             1             10 -0.029573                  7.800000   \n",
       "\n",
       "   def_rush_yds_per_attempt  def_int  forced_fumbles  def_penlty_yards  \n",
       "0                  2.000000        2               0                16  \n",
       "1                  4.192308        0               0                 0  \n",
       "2                  3.238095        0               0                 0  \n",
       "3                  3.740741        2               0                15  \n",
       "4                  2.151515        1               1                 0  \n",
       "\n",
       "[5 rows x 21 columns]"
      ]
     },
     "execution_count": 2,
     "metadata": {},
     "output_type": "execute_result"
    }
   ],
   "source": [
    "# load in csv file\n",
    "\n",
    "df = pd.read_csv(\"../Data/nfl_game_data.csv\")\n",
    "\n",
    "df.head()"
   ]
  },
  {
   "cell_type": "code",
   "execution_count": 3,
   "id": "e0f9cd5a",
   "metadata": {},
   "outputs": [
    {
     "name": "stdout",
     "output_type": "stream",
     "text": [
      "<class 'pandas.core.frame.DataFrame'>\n",
      "RangeIndex: 10326 entries, 0 to 10325\n",
      "Data columns (total 21 columns):\n",
      " #   Column                    Non-Null Count  Dtype  \n",
      "---  ------                    --------------  -----  \n",
      " 0   game_id                   10326 non-null  object \n",
      " 1   season                    10326 non-null  int64  \n",
      " 2   team                      10326 non-null  object \n",
      " 3   opponent                  10326 non-null  object \n",
      " 4   spread_line               10326 non-null  float64\n",
      " 5   coach                     10326 non-null  object \n",
      " 6   roof                      10326 non-null  object \n",
      " 7   ats_win                   10326 non-null  object \n",
      " 8   location                  10326 non-null  object \n",
      " 9   epa                       10326 non-null  float64\n",
      " 10  pass_yds_per_attempt      10326 non-null  float64\n",
      " 11  rush_yds_per_attempt      10326 non-null  float64\n",
      " 12  int                       10326 non-null  int64  \n",
      " 13  fumbles_lost              10326 non-null  int64  \n",
      " 14  penalty_yards             10326 non-null  int64  \n",
      " 15  def_epa                   10326 non-null  float64\n",
      " 16  def_pass_yds_per_attempt  10326 non-null  float64\n",
      " 17  def_rush_yds_per_attempt  10326 non-null  float64\n",
      " 18  def_int                   10326 non-null  int64  \n",
      " 19  forced_fumbles            10326 non-null  int64  \n",
      " 20  def_penlty_yards          10326 non-null  int64  \n",
      "dtypes: float64(7), int64(7), object(7)\n",
      "memory usage: 1.7+ MB\n"
     ]
    }
   ],
   "source": [
    "# drop unnecessary columns (game_id, team, )\n",
    "# convert season column from integer to category\n",
    "df[\"season\"] = df.season.astype('category')"
   ]
  },
  {
   "cell_type": "code",
   "execution_count": 4,
   "id": "acc24a12",
   "metadata": {},
   "outputs": [
    {
     "name": "stdout",
     "output_type": "stream",
     "text": [
      "<class 'pandas.core.frame.DataFrame'>\n",
      "RangeIndex: 10326 entries, 0 to 10325\n",
      "Data columns (total 19 columns):\n",
      " #   Column                    Non-Null Count  Dtype   \n",
      "---  ------                    --------------  -----   \n",
      " 0   season                    10326 non-null  category\n",
      " 1   opponent                  10326 non-null  object  \n",
      " 2   spread_line               10326 non-null  float64 \n",
      " 3   coach                     10326 non-null  object  \n",
      " 4   roof                      10326 non-null  object  \n",
      " 5   ats_win                   10326 non-null  object  \n",
      " 6   location                  10326 non-null  object  \n",
      " 7   epa                       10326 non-null  float64 \n",
      " 8   pass_yds_per_attempt      10326 non-null  float64 \n",
      " 9   rush_yds_per_attempt      10326 non-null  float64 \n",
      " 10  int                       10326 non-null  int64   \n",
      " 11  fumbles_lost              10326 non-null  int64   \n",
      " 12  penalty_yards             10326 non-null  int64   \n",
      " 13  def_epa                   10326 non-null  float64 \n",
      " 14  def_pass_yds_per_attempt  10326 non-null  float64 \n",
      " 15  def_rush_yds_per_attempt  10326 non-null  float64 \n",
      " 16  def_int                   10326 non-null  int64   \n",
      " 17  forced_fumbles            10326 non-null  int64   \n",
      " 18  def_penlty_yards          10326 non-null  int64   \n",
      "dtypes: category(1), float64(7), int64(6), object(5)\n",
      "memory usage: 1.4+ MB\n"
     ]
    }
   ],
   "source": [
    "df = df.drop(columns=[\"game_id\", \"team\"])\n",
    "df.info()"
   ]
  },
  {
   "cell_type": "code",
   "execution_count": 5,
   "id": "0b99c3b8",
   "metadata": {},
   "outputs": [],
   "source": [
    "# split data into x and y \n",
    "\n",
    "X = df.drop(\"ats_win\", axis=1)\n",
    "y = df['ats_win']\n",
    "\n"
   ]
  },
  {
   "cell_type": "code",
   "execution_count": 6,
   "id": "1a63fa71",
   "metadata": {},
   "outputs": [],
   "source": [
    "numeric_features = [\"spread_line\", \"epa\", \"pass_yds_per_attempt\", \"rush_yds_per_attempt\", \"int\", \"fumbles_lost\", \"penalty_yards\", \"def_epa\",\n",
    "                         \"def_pass_yds_per_attempt\", \"def_rush_yds_per_attempt\", \"def_int\", \"forced_fumbles\", \"def_penlty_yards\"]\n",
    "\n",
    "numeric_transformer = Pipeline(\n",
    "    steps=[(\"imputer\", SimpleImputer(strategy=\"median\")), (\"scaler\", StandardScaler())]\n",
    ")\n",
    "\n",
    "categorical_features = [\"season\", \"opponent\", \"coach\", \"roof\", \"location\"]\n",
    "categorical_transformer = OneHotEncoder(handle_unknown=\"ignore\")\n",
    "\n",
    "preprocessor = ColumnTransformer(\n",
    "    transformers=[\n",
    "        (\"num\", numeric_transformer, numeric_features),\n",
    "        (\"cat\", categorical_transformer, categorical_features),\n",
    "    ]\n",
    ")"
   ]
  },
  {
   "cell_type": "code",
   "execution_count": 8,
   "id": "970598fa",
   "metadata": {},
   "outputs": [
    {
     "name": "stdout",
     "output_type": "stream",
     "text": [
      "0.7989025177533893\n"
     ]
    }
   ],
   "source": [
    "# Logistic Regresssion Model\n",
    "\n",
    "log_regression_model = Pipeline(\n",
    "    steps=[(\"preprocessor\", preprocessor), (\"classifier\", LogisticRegression(max_iter=10000))]\n",
    "\n",
    ")\n",
    "\n",
    "X_train, X_test, y_train, y_test = train_test_split(X, y, random_state=42, test_size=0.3)\n",
    "\n",
    "log_regression_model.fit(X_train, y_train)\n",
    "\n",
    "print(log_regression_model.score(X_test, y_test))"
   ]
  },
  {
   "cell_type": "code",
   "execution_count": 9,
   "id": "1849dec1",
   "metadata": {},
   "outputs": [
    {
     "data": {
      "text/plain": [
       "array([[1265,    0,  267],\n",
       "       [  44,    0,   39],\n",
       "       [ 273,    0, 1210]], dtype=int64)"
      ]
     },
     "execution_count": 9,
     "metadata": {},
     "output_type": "execute_result"
    }
   ],
   "source": [
    "prds = log_regression_model.predict(X_test)\n",
    "\n",
    "confusion_matrix(y_test, prds)\n",
    "\n"
   ]
  },
  {
   "cell_type": "code",
   "execution_count": 11,
   "id": "5b3805b1",
   "metadata": {},
   "outputs": [
    {
     "name": "stdout",
     "output_type": "stream",
     "text": [
      "              precision    recall  f1-score   support\n",
      "\n",
      "        lose       0.80      0.83      0.81      1532\n",
      "        push       0.00      0.00      0.00        83\n",
      "         win       0.80      0.82      0.81      1483\n",
      "\n",
      "    accuracy                           0.80      3098\n",
      "   macro avg       0.53      0.55      0.54      3098\n",
      "weighted avg       0.78      0.80      0.79      3098\n",
      "\n"
     ]
    },
    {
     "name": "stderr",
     "output_type": "stream",
     "text": [
      "C:\\Users\\marko\\anaconda3\\envs\\MyML\\lib\\site-packages\\sklearn\\metrics\\_classification.py:1327: UndefinedMetricWarning: Precision and F-score are ill-defined and being set to 0.0 in labels with no predicted samples. Use `zero_division` parameter to control this behavior.\n",
      "  _warn_prf(average, modifier, msg_start, len(result))\n",
      "C:\\Users\\marko\\anaconda3\\envs\\MyML\\lib\\site-packages\\sklearn\\metrics\\_classification.py:1327: UndefinedMetricWarning: Precision and F-score are ill-defined and being set to 0.0 in labels with no predicted samples. Use `zero_division` parameter to control this behavior.\n",
      "  _warn_prf(average, modifier, msg_start, len(result))\n",
      "C:\\Users\\marko\\anaconda3\\envs\\MyML\\lib\\site-packages\\sklearn\\metrics\\_classification.py:1327: UndefinedMetricWarning: Precision and F-score are ill-defined and being set to 0.0 in labels with no predicted samples. Use `zero_division` parameter to control this behavior.\n",
      "  _warn_prf(average, modifier, msg_start, len(result))\n"
     ]
    }
   ],
   "source": [
    "print(classification_report(y_test, prds))"
   ]
  },
  {
   "cell_type": "code",
   "execution_count": 16,
   "id": "f15543f6",
   "metadata": {},
   "outputs": [
    {
     "name": "stdout",
     "output_type": "stream",
     "text": [
      "0.790187217559716\n"
     ]
    }
   ],
   "source": [
    "\n",
    "\n",
    "preprocessor2 = ColumnTransformer(\n",
    "    transformers=[\n",
    "        (\"num\", numeric_transformer, selector(dtype_exclude=\"object\")),\n",
    "        (\"cat\", categorical_transformer, selector(dtype_include=\"category\")),\n",
    "    ]\n",
    "\n",
    ")\n",
    "\n",
    "model2 = Pipeline(\n",
    "    steps=[(\"preprocessor\", preprocessor2), (\"classifier\", LogisticRegression(max_iter=10000))]\n",
    "\n",
    ")\n",
    "\n",
    "model2.fit(X_train, y_train)\n",
    "\n",
    "print(model2.score(X_test, y_test))\n",
    "\n"
   ]
  },
  {
   "cell_type": "code",
   "execution_count": 18,
   "id": "0df8aa51",
   "metadata": {},
   "outputs": [
    {
     "name": "stdout",
     "output_type": "stream",
     "text": [
      "              precision    recall  f1-score   support\n",
      "\n",
      "        lose       0.79      0.82      0.80      1532\n",
      "        push       0.00      0.00      0.00        83\n",
      "         win       0.79      0.80      0.80      1483\n",
      "\n",
      "    accuracy                           0.79      3098\n",
      "   macro avg       0.53      0.54      0.53      3098\n",
      "weighted avg       0.77      0.79      0.78      3098\n",
      "\n"
     ]
    },
    {
     "name": "stderr",
     "output_type": "stream",
     "text": [
      "C:\\Users\\marko\\anaconda3\\envs\\MyML\\lib\\site-packages\\sklearn\\metrics\\_classification.py:1327: UndefinedMetricWarning: Precision and F-score are ill-defined and being set to 0.0 in labels with no predicted samples. Use `zero_division` parameter to control this behavior.\n",
      "  _warn_prf(average, modifier, msg_start, len(result))\n",
      "C:\\Users\\marko\\anaconda3\\envs\\MyML\\lib\\site-packages\\sklearn\\metrics\\_classification.py:1327: UndefinedMetricWarning: Precision and F-score are ill-defined and being set to 0.0 in labels with no predicted samples. Use `zero_division` parameter to control this behavior.\n",
      "  _warn_prf(average, modifier, msg_start, len(result))\n",
      "C:\\Users\\marko\\anaconda3\\envs\\MyML\\lib\\site-packages\\sklearn\\metrics\\_classification.py:1327: UndefinedMetricWarning: Precision and F-score are ill-defined and being set to 0.0 in labels with no predicted samples. Use `zero_division` parameter to control this behavior.\n",
      "  _warn_prf(average, modifier, msg_start, len(result))\n"
     ]
    }
   ],
   "source": [
    "preds2 = model2.predict(X_test)\n",
    "\n",
    "print(classification_report(y_test, preds2))"
   ]
  },
  {
   "cell_type": "code",
   "execution_count": 20,
   "id": "08d5864d",
   "metadata": {},
   "outputs": [
    {
     "data": {
      "text/plain": [
       "0.7963202065848934"
      ]
     },
     "execution_count": 20,
     "metadata": {},
     "output_type": "execute_result"
    }
   ],
   "source": [
    "model3 = Pipeline(\n",
    "    steps=[(\"preprocessor\", preprocessor), (\"classifier\", RandomForestClassifier())]\n",
    "\n",
    ")\n",
    "\n",
    "model3.fit(X_train, y_train)\n",
    "\n",
    "model3.score(X_test, y_test)"
   ]
  },
  {
   "cell_type": "code",
   "execution_count": 21,
   "id": "c01ddd6e",
   "metadata": {},
   "outputs": [
    {
     "name": "stdout",
     "output_type": "stream",
     "text": [
      "              precision    recall  f1-score   support\n",
      "\n",
      "        lose       0.80      0.82      0.81      1532\n",
      "        push       0.00      0.00      0.00        83\n",
      "         win       0.79      0.82      0.80      1483\n",
      "\n",
      "    accuracy                           0.80      3098\n",
      "   macro avg       0.53      0.55      0.54      3098\n",
      "weighted avg       0.77      0.80      0.79      3098\n",
      "\n"
     ]
    },
    {
     "name": "stderr",
     "output_type": "stream",
     "text": [
      "C:\\Users\\marko\\anaconda3\\envs\\MyML\\lib\\site-packages\\sklearn\\metrics\\_classification.py:1327: UndefinedMetricWarning: Precision and F-score are ill-defined and being set to 0.0 in labels with no predicted samples. Use `zero_division` parameter to control this behavior.\n",
      "  _warn_prf(average, modifier, msg_start, len(result))\n",
      "C:\\Users\\marko\\anaconda3\\envs\\MyML\\lib\\site-packages\\sklearn\\metrics\\_classification.py:1327: UndefinedMetricWarning: Precision and F-score are ill-defined and being set to 0.0 in labels with no predicted samples. Use `zero_division` parameter to control this behavior.\n",
      "  _warn_prf(average, modifier, msg_start, len(result))\n",
      "C:\\Users\\marko\\anaconda3\\envs\\MyML\\lib\\site-packages\\sklearn\\metrics\\_classification.py:1327: UndefinedMetricWarning: Precision and F-score are ill-defined and being set to 0.0 in labels with no predicted samples. Use `zero_division` parameter to control this behavior.\n",
      "  _warn_prf(average, modifier, msg_start, len(result))\n"
     ]
    }
   ],
   "source": [
    "preds3 = model3.predict(X_test)\n",
    "\n",
    "print(classification_report(y_test, preds3))"
   ]
  },
  {
   "cell_type": "code",
   "execution_count": 22,
   "id": "40ab9846",
   "metadata": {},
   "outputs": [],
   "source": [
    "probs = model3.predict_proba(X_test)"
   ]
  },
  {
   "cell_type": "code",
   "execution_count": 23,
   "id": "0150a837",
   "metadata": {},
   "outputs": [
    {
     "data": {
      "text/plain": [
       "array([[0.43, 0.04, 0.53],\n",
       "       [0.82, 0.02, 0.16],\n",
       "       [0.3 , 0.08, 0.62],\n",
       "       ...,\n",
       "       [0.81, 0.01, 0.18],\n",
       "       [0.91, 0.  , 0.09],\n",
       "       [0.8 , 0.03, 0.17]])"
      ]
     },
     "execution_count": 23,
     "metadata": {},
     "output_type": "execute_result"
    }
   ],
   "source": [
    "probs"
   ]
  },
  {
   "cell_type": "code",
   "execution_count": 37,
   "id": "e66c982a",
   "metadata": {},
   "outputs": [],
   "source": [
    "predictions = pd.DataFrame(probs)"
   ]
  },
  {
   "cell_type": "code",
   "execution_count": 27,
   "id": "b19356e6",
   "metadata": {},
   "outputs": [
    {
     "data": {
      "text/plain": [
       "array(['win', 'lose', 'win', ..., 'lose', 'lose', 'lose'], dtype=object)"
      ]
     },
     "execution_count": 27,
     "metadata": {},
     "output_type": "execute_result"
    }
   ],
   "source": [
    "preds3"
   ]
  },
  {
   "cell_type": "code",
   "execution_count": 38,
   "id": "e8c08ae6",
   "metadata": {},
   "outputs": [
    {
     "data": {
      "text/html": [
       "<div>\n",
       "<style scoped>\n",
       "    .dataframe tbody tr th:only-of-type {\n",
       "        vertical-align: middle;\n",
       "    }\n",
       "\n",
       "    .dataframe tbody tr th {\n",
       "        vertical-align: top;\n",
       "    }\n",
       "\n",
       "    .dataframe thead th {\n",
       "        text-align: right;\n",
       "    }\n",
       "</style>\n",
       "<table border=\"1\" class=\"dataframe\">\n",
       "  <thead>\n",
       "    <tr style=\"text-align: right;\">\n",
       "      <th></th>\n",
       "      <th>0</th>\n",
       "      <th>1</th>\n",
       "      <th>2</th>\n",
       "    </tr>\n",
       "  </thead>\n",
       "  <tbody>\n",
       "    <tr>\n",
       "      <th>0</th>\n",
       "      <td>0.43</td>\n",
       "      <td>0.04</td>\n",
       "      <td>0.53</td>\n",
       "    </tr>\n",
       "    <tr>\n",
       "      <th>1</th>\n",
       "      <td>0.82</td>\n",
       "      <td>0.02</td>\n",
       "      <td>0.16</td>\n",
       "    </tr>\n",
       "    <tr>\n",
       "      <th>2</th>\n",
       "      <td>0.30</td>\n",
       "      <td>0.08</td>\n",
       "      <td>0.62</td>\n",
       "    </tr>\n",
       "    <tr>\n",
       "      <th>3</th>\n",
       "      <td>0.39</td>\n",
       "      <td>0.02</td>\n",
       "      <td>0.59</td>\n",
       "    </tr>\n",
       "    <tr>\n",
       "      <th>4</th>\n",
       "      <td>0.58</td>\n",
       "      <td>0.03</td>\n",
       "      <td>0.39</td>\n",
       "    </tr>\n",
       "    <tr>\n",
       "      <th>...</th>\n",
       "      <td>...</td>\n",
       "      <td>...</td>\n",
       "      <td>...</td>\n",
       "    </tr>\n",
       "    <tr>\n",
       "      <th>3093</th>\n",
       "      <td>0.19</td>\n",
       "      <td>0.04</td>\n",
       "      <td>0.77</td>\n",
       "    </tr>\n",
       "    <tr>\n",
       "      <th>3094</th>\n",
       "      <td>0.66</td>\n",
       "      <td>0.02</td>\n",
       "      <td>0.32</td>\n",
       "    </tr>\n",
       "    <tr>\n",
       "      <th>3095</th>\n",
       "      <td>0.81</td>\n",
       "      <td>0.01</td>\n",
       "      <td>0.18</td>\n",
       "    </tr>\n",
       "    <tr>\n",
       "      <th>3096</th>\n",
       "      <td>0.91</td>\n",
       "      <td>0.00</td>\n",
       "      <td>0.09</td>\n",
       "    </tr>\n",
       "    <tr>\n",
       "      <th>3097</th>\n",
       "      <td>0.80</td>\n",
       "      <td>0.03</td>\n",
       "      <td>0.17</td>\n",
       "    </tr>\n",
       "  </tbody>\n",
       "</table>\n",
       "<p>3098 rows × 3 columns</p>\n",
       "</div>"
      ],
      "text/plain": [
       "         0     1     2\n",
       "0     0.43  0.04  0.53\n",
       "1     0.82  0.02  0.16\n",
       "2     0.30  0.08  0.62\n",
       "3     0.39  0.02  0.59\n",
       "4     0.58  0.03  0.39\n",
       "...    ...   ...   ...\n",
       "3093  0.19  0.04  0.77\n",
       "3094  0.66  0.02  0.32\n",
       "3095  0.81  0.01  0.18\n",
       "3096  0.91  0.00  0.09\n",
       "3097  0.80  0.03  0.17\n",
       "\n",
       "[3098 rows x 3 columns]"
      ]
     },
     "execution_count": 38,
     "metadata": {},
     "output_type": "execute_result"
    }
   ],
   "source": [
    "predictions"
   ]
  },
  {
   "cell_type": "code",
   "execution_count": null,
   "id": "ca1099a7",
   "metadata": {},
   "outputs": [],
   "source": []
  }
 ],
 "metadata": {
  "kernelspec": {
   "display_name": "MyML",
   "language": "python",
   "name": "myml"
  },
  "language_info": {
   "codemirror_mode": {
    "name": "ipython",
    "version": 3
   },
   "file_extension": ".py",
   "mimetype": "text/x-python",
   "name": "python",
   "nbconvert_exporter": "python",
   "pygments_lexer": "ipython3",
   "version": "3.9.13"
  },
  "toc": {
   "base_numbering": 1,
   "nav_menu": {},
   "number_sections": true,
   "sideBar": true,
   "skip_h1_title": false,
   "title_cell": "Table of Contents",
   "title_sidebar": "Contents",
   "toc_cell": false,
   "toc_position": {},
   "toc_section_display": true,
   "toc_window_display": false
  },
  "varInspector": {
   "cols": {
    "lenName": 16,
    "lenType": 16,
    "lenVar": 40
   },
   "kernels_config": {
    "python": {
     "delete_cmd_postfix": "",
     "delete_cmd_prefix": "del ",
     "library": "var_list.py",
     "varRefreshCmd": "print(var_dic_list())"
    },
    "r": {
     "delete_cmd_postfix": ") ",
     "delete_cmd_prefix": "rm(",
     "library": "var_list.r",
     "varRefreshCmd": "cat(var_dic_list()) "
    }
   },
   "position": {
    "height": "528.844px",
    "left": "1534px",
    "right": "20px",
    "top": "170px",
    "width": "332px"
   },
   "types_to_exclude": [
    "module",
    "function",
    "builtin_function_or_method",
    "instance",
    "_Feature"
   ],
   "window_display": true
  }
 },
 "nbformat": 4,
 "nbformat_minor": 5
}
