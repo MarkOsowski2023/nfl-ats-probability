{
 "cells": [
  {
   "cell_type": "markdown",
   "id": "81eb46ee",
   "metadata": {},
   "source": [
    "# NFL Against the Spread Classification\n",
    "\n",
    "- Building a classification model to predict if an NFL team will beat, push, or lose to the spread\n",
    "- We will test multiple classification models and parameters to find the best model"
   ]
  },
  {
   "cell_type": "code",
   "execution_count": 1,
   "id": "76aa3118",
   "metadata": {},
   "outputs": [],
   "source": [
    "# Import dependencies\n",
    "\n",
    "import pandas as pd\n",
    "import numpy as np\n",
    "import matplotlib.pyplot as plt\n",
    "\n",
    "import warnings\n",
    "warnings.filterwarnings('ignore')\n",
    "\n",
    "\n",
    "# scikit-learn\n",
    "from sklearn.preprocessing import StandardScaler, OneHotEncoder\n",
    "from sklearn.model_selection import train_test_split\n",
    "from sklearn.decomposition import PCA\n",
    "from sklearn.compose import ColumnTransformer\n",
    "from sklearn.impute import SimpleImputer\n",
    "from sklearn.compose import make_column_selector as selector\n",
    "\n",
    "# models\n",
    "from sklearn.linear_model import LogisticRegression, SGDClassifier\n",
    "from sklearn.ensemble import RandomForestClassifier\n",
    "from sklearn.neighbors import KNeighborsClassifier\n",
    "\n",
    "# metrics\n",
    "from sklearn.metrics import confusion_matrix, classification_report, cohen_kappa_score, accuracy_score, roc_curve, auc\n",
    "\n",
    "# pipeline and grid search\n",
    "from sklearn.pipeline import Pipeline\n",
    "from sklearn.model_selection import GridSearchCV\n",
    "\n",
    "# multiclass ROC curve\n",
    "\n",
    "from yellowbrick.classifier import ROCAUC"
   ]
  },
  {
   "cell_type": "code",
   "execution_count": 2,
   "id": "7a469520",
   "metadata": {},
   "outputs": [
    {
     "data": {
      "text/html": [
       "<div>\n",
       "<style scoped>\n",
       "    .dataframe tbody tr th:only-of-type {\n",
       "        vertical-align: middle;\n",
       "    }\n",
       "\n",
       "    .dataframe tbody tr th {\n",
       "        vertical-align: top;\n",
       "    }\n",
       "\n",
       "    .dataframe thead th {\n",
       "        text-align: right;\n",
       "    }\n",
       "</style>\n",
       "<table border=\"1\" class=\"dataframe\">\n",
       "  <thead>\n",
       "    <tr style=\"text-align: right;\">\n",
       "      <th></th>\n",
       "      <th>game_id</th>\n",
       "      <th>season</th>\n",
       "      <th>team</th>\n",
       "      <th>opponent</th>\n",
       "      <th>spread_line</th>\n",
       "      <th>coach</th>\n",
       "      <th>roof</th>\n",
       "      <th>ats_win</th>\n",
       "      <th>location</th>\n",
       "      <th>epa</th>\n",
       "      <th>...</th>\n",
       "      <th>rush_yds_per_attempt</th>\n",
       "      <th>int</th>\n",
       "      <th>fumbles_lost</th>\n",
       "      <th>penalty_yards</th>\n",
       "      <th>def_epa</th>\n",
       "      <th>def_pass_yds_per_attempt</th>\n",
       "      <th>def_rush_yds_per_attempt</th>\n",
       "      <th>def_int</th>\n",
       "      <th>forced_fumbles</th>\n",
       "      <th>def_penlty_yards</th>\n",
       "    </tr>\n",
       "  </thead>\n",
       "  <tbody>\n",
       "    <tr>\n",
       "      <th>0</th>\n",
       "      <td>2001_01_CHI_BAL</td>\n",
       "      <td>2001</td>\n",
       "      <td>BAL</td>\n",
       "      <td>CHI</td>\n",
       "      <td>10.5</td>\n",
       "      <td>Brian Billick</td>\n",
       "      <td>outdoors</td>\n",
       "      <td>win</td>\n",
       "      <td>home</td>\n",
       "      <td>-0.077838</td>\n",
       "      <td>...</td>\n",
       "      <td>1.800000</td>\n",
       "      <td>0</td>\n",
       "      <td>2</td>\n",
       "      <td>15</td>\n",
       "      <td>-0.247703</td>\n",
       "      <td>5.750000</td>\n",
       "      <td>2.000000</td>\n",
       "      <td>2</td>\n",
       "      <td>0</td>\n",
       "      <td>16</td>\n",
       "    </tr>\n",
       "    <tr>\n",
       "      <th>1</th>\n",
       "      <td>2001_01_NO_BUF</td>\n",
       "      <td>2001</td>\n",
       "      <td>BUF</td>\n",
       "      <td>NO</td>\n",
       "      <td>-1.5</td>\n",
       "      <td>Gregg Williams</td>\n",
       "      <td>outdoors</td>\n",
       "      <td>lose</td>\n",
       "      <td>home</td>\n",
       "      <td>-0.340673</td>\n",
       "      <td>...</td>\n",
       "      <td>4.464286</td>\n",
       "      <td>3</td>\n",
       "      <td>0</td>\n",
       "      <td>15</td>\n",
       "      <td>0.040729</td>\n",
       "      <td>11.611111</td>\n",
       "      <td>4.192308</td>\n",
       "      <td>0</td>\n",
       "      <td>0</td>\n",
       "      <td>0</td>\n",
       "    </tr>\n",
       "    <tr>\n",
       "      <th>2</th>\n",
       "      <td>2001_01_NE_CIN</td>\n",
       "      <td>2001</td>\n",
       "      <td>CIN</td>\n",
       "      <td>NE</td>\n",
       "      <td>0.0</td>\n",
       "      <td>Dick LeBeau</td>\n",
       "      <td>outdoors</td>\n",
       "      <td>win</td>\n",
       "      <td>home</td>\n",
       "      <td>0.065117</td>\n",
       "      <td>...</td>\n",
       "      <td>4.757576</td>\n",
       "      <td>0</td>\n",
       "      <td>1</td>\n",
       "      <td>0</td>\n",
       "      <td>0.004959</td>\n",
       "      <td>10.954545</td>\n",
       "      <td>3.238095</td>\n",
       "      <td>0</td>\n",
       "      <td>0</td>\n",
       "      <td>0</td>\n",
       "    </tr>\n",
       "    <tr>\n",
       "      <th>3</th>\n",
       "      <td>2001_01_SEA_CLE</td>\n",
       "      <td>2001</td>\n",
       "      <td>CLE</td>\n",
       "      <td>SEA</td>\n",
       "      <td>-4.0</td>\n",
       "      <td>Butch Davis</td>\n",
       "      <td>outdoors</td>\n",
       "      <td>win</td>\n",
       "      <td>home</td>\n",
       "      <td>-0.137322</td>\n",
       "      <td>...</td>\n",
       "      <td>3.600000</td>\n",
       "      <td>1</td>\n",
       "      <td>0</td>\n",
       "      <td>0</td>\n",
       "      <td>-0.118707</td>\n",
       "      <td>8.900000</td>\n",
       "      <td>3.740741</td>\n",
       "      <td>2</td>\n",
       "      <td>0</td>\n",
       "      <td>15</td>\n",
       "    </tr>\n",
       "    <tr>\n",
       "      <th>4</th>\n",
       "      <td>2001_01_TB_DAL</td>\n",
       "      <td>2001</td>\n",
       "      <td>DAL</td>\n",
       "      <td>TB</td>\n",
       "      <td>-9.0</td>\n",
       "      <td>Dave Campo</td>\n",
       "      <td>outdoors</td>\n",
       "      <td>win</td>\n",
       "      <td>home</td>\n",
       "      <td>-0.429948</td>\n",
       "      <td>...</td>\n",
       "      <td>4.304348</td>\n",
       "      <td>2</td>\n",
       "      <td>1</td>\n",
       "      <td>10</td>\n",
       "      <td>-0.029573</td>\n",
       "      <td>7.800000</td>\n",
       "      <td>2.151515</td>\n",
       "      <td>1</td>\n",
       "      <td>1</td>\n",
       "      <td>0</td>\n",
       "    </tr>\n",
       "  </tbody>\n",
       "</table>\n",
       "<p>5 rows × 21 columns</p>\n",
       "</div>"
      ],
      "text/plain": [
       "           game_id  season team opponent  spread_line           coach  \\\n",
       "0  2001_01_CHI_BAL    2001  BAL      CHI         10.5   Brian Billick   \n",
       "1   2001_01_NO_BUF    2001  BUF       NO         -1.5  Gregg Williams   \n",
       "2   2001_01_NE_CIN    2001  CIN       NE          0.0     Dick LeBeau   \n",
       "3  2001_01_SEA_CLE    2001  CLE      SEA         -4.0     Butch Davis   \n",
       "4   2001_01_TB_DAL    2001  DAL       TB         -9.0      Dave Campo   \n",
       "\n",
       "       roof ats_win location       epa  ...  rush_yds_per_attempt  int  \\\n",
       "0  outdoors     win     home -0.077838  ...              1.800000    0   \n",
       "1  outdoors    lose     home -0.340673  ...              4.464286    3   \n",
       "2  outdoors     win     home  0.065117  ...              4.757576    0   \n",
       "3  outdoors     win     home -0.137322  ...              3.600000    1   \n",
       "4  outdoors     win     home -0.429948  ...              4.304348    2   \n",
       "\n",
       "   fumbles_lost  penalty_yards   def_epa  def_pass_yds_per_attempt  \\\n",
       "0             2             15 -0.247703                  5.750000   \n",
       "1             0             15  0.040729                 11.611111   \n",
       "2             1              0  0.004959                 10.954545   \n",
       "3             0              0 -0.118707                  8.900000   \n",
       "4             1             10 -0.029573                  7.800000   \n",
       "\n",
       "   def_rush_yds_per_attempt  def_int  forced_fumbles  def_penlty_yards  \n",
       "0                  2.000000        2               0                16  \n",
       "1                  4.192308        0               0                 0  \n",
       "2                  3.238095        0               0                 0  \n",
       "3                  3.740741        2               0                15  \n",
       "4                  2.151515        1               1                 0  \n",
       "\n",
       "[5 rows x 21 columns]"
      ]
     },
     "execution_count": 2,
     "metadata": {},
     "output_type": "execute_result"
    }
   ],
   "source": [
    "# load in csv file\n",
    "\n",
    "df = pd.read_csv(\"../Data/nfl_game_data.csv\")\n",
    "\n",
    "df.head()"
   ]
  },
  {
   "cell_type": "code",
   "execution_count": 3,
   "id": "839efedf",
   "metadata": {},
   "outputs": [],
   "source": [
    "# drop unnecessary columns (game_id, team, )\n",
    "# convert season column from integer to category\n",
    "df[\"season\"] = df.season.astype('category')"
   ]
  },
  {
   "cell_type": "code",
   "execution_count": 4,
   "id": "457ffc79",
   "metadata": {},
   "outputs": [
    {
     "name": "stdout",
     "output_type": "stream",
     "text": [
      "<class 'pandas.core.frame.DataFrame'>\n",
      "RangeIndex: 10326 entries, 0 to 10325\n",
      "Data columns (total 19 columns):\n",
      " #   Column                    Non-Null Count  Dtype   \n",
      "---  ------                    --------------  -----   \n",
      " 0   season                    10326 non-null  category\n",
      " 1   opponent                  10326 non-null  object  \n",
      " 2   spread_line               10326 non-null  float64 \n",
      " 3   coach                     10326 non-null  object  \n",
      " 4   roof                      10326 non-null  object  \n",
      " 5   ats_win                   10326 non-null  object  \n",
      " 6   location                  10326 non-null  object  \n",
      " 7   epa                       10326 non-null  float64 \n",
      " 8   pass_yds_per_attempt      10326 non-null  float64 \n",
      " 9   rush_yds_per_attempt      10326 non-null  float64 \n",
      " 10  int                       10326 non-null  int64   \n",
      " 11  fumbles_lost              10326 non-null  int64   \n",
      " 12  penalty_yards             10326 non-null  int64   \n",
      " 13  def_epa                   10326 non-null  float64 \n",
      " 14  def_pass_yds_per_attempt  10326 non-null  float64 \n",
      " 15  def_rush_yds_per_attempt  10326 non-null  float64 \n",
      " 16  def_int                   10326 non-null  int64   \n",
      " 17  forced_fumbles            10326 non-null  int64   \n",
      " 18  def_penlty_yards          10326 non-null  int64   \n",
      "dtypes: category(1), float64(7), int64(6), object(5)\n",
      "memory usage: 1.4+ MB\n"
     ]
    }
   ],
   "source": [
    "df = df.drop(columns=[\"game_id\", \"team\"])\n",
    "df.info()"
   ]
  },
  {
   "cell_type": "code",
   "execution_count": 5,
   "id": "62a9fa82",
   "metadata": {},
   "outputs": [],
   "source": [
    "# Create a function to use to run multiple models\n",
    "def test_model(model, data):\n",
    "    X_train, X_test, y_train, y_test = data\n",
    "    clf = model.fit(X_train, y_train)\n",
    "    prds = model.predict(X_test)\n",
    "#     print(f'Model: ')\n",
    "    print(f'Train score: {clf.score(X_train, y_train)}')\n",
    "    print(f\"-\"*40)\n",
    "    print(f'Test Score: {clf.score(X_test, y_test)}')\n",
    "    print(f\"-\"*40)\n",
    "    print(f\"Cohen's Kappa: {cohen_kappa_score(y_test, prds)}\")\n",
    "    print(f\"-\"*40)\n",
    "    print(f'''Confusion Matrix: \n",
    "{confusion_matrix(y_test, prds)}''')\n",
    "    print(f\"-\"*40)\n",
    "    print(f'''Classification Report:\n",
    "{classification_report(y_test, prds)}''')\n",
    "    plt.show()\n",
    "\n",
    "# split data into x and y \n",
    "\n",
    "X = df.drop(\"ats_win\", axis=1)\n",
    "y = df['ats_win']\n",
    "\n",
    "X_train, X_test, y_train, y_test = train_test_split(X, y, random_state=42, test_size=0.3)\n",
    "    \n",
    "data = [X_train, X_test, y_train, y_test]"
   ]
  },
  {
   "cell_type": "code",
   "execution_count": 6,
   "id": "b8065908",
   "metadata": {},
   "outputs": [],
   "source": [
    "# Create pipeline\n",
    "numeric_features = [\"spread_line\", \"epa\", \"pass_yds_per_attempt\", \"rush_yds_per_attempt\", \"int\", \"fumbles_lost\", \\\n",
    "                    \"penalty_yards\", \"def_epa\", \"def_pass_yds_per_attempt\", \"def_rush_yds_per_attempt\", \"def_int\", \\\n",
    "                    \"forced_fumbles\", \"def_penlty_yards\"]\n",
    "\n",
    "numeric_transformer = Pipeline(\n",
    "    steps=[(\"imputer\", SimpleImputer(strategy=\"median\")), (\"scaler\", StandardScaler())]\n",
    ")\n",
    "\n",
    "categorical_features = [\"season\", \"opponent\", \"coach\", \"roof\", \"location\"]\n",
    "categorical_transformer = OneHotEncoder(handle_unknown=\"ignore\")\n",
    "\n",
    "preprocessor = ColumnTransformer(\n",
    "    transformers=[\n",
    "        (\"num\", numeric_transformer, numeric_features),\n",
    "        (\"cat\", categorical_transformer, categorical_features),\n",
    "    ]\n",
    ")"
   ]
  },
  {
   "cell_type": "markdown",
   "id": "5a811842",
   "metadata": {},
   "source": [
    "### Logistic Regression Model"
   ]
  },
  {
   "cell_type": "code",
   "execution_count": 7,
   "id": "690f0130",
   "metadata": {
    "scrolled": true
   },
   "outputs": [
    {
     "name": "stdout",
     "output_type": "stream",
     "text": [
      "Train score: 0.813918096292197\n",
      "----------------------------------------\n",
      "Test Score: 0.7989025177533893\n",
      "----------------------------------------\n",
      "Cohen's Kappa: 0.6081706915005058\n",
      "----------------------------------------\n",
      "Confusion Matrix: \n",
      "[[1265    0  267]\n",
      " [  44    0   39]\n",
      " [ 273    0 1210]]\n",
      "----------------------------------------\n",
      "Classification Report:\n",
      "              precision    recall  f1-score   support\n",
      "\n",
      "        lose       0.80      0.83      0.81      1532\n",
      "        push       0.00      0.00      0.00        83\n",
      "         win       0.80      0.82      0.81      1483\n",
      "\n",
      "    accuracy                           0.80      3098\n",
      "   macro avg       0.53      0.55      0.54      3098\n",
      "weighted avg       0.78      0.80      0.79      3098\n",
      "\n"
     ]
    }
   ],
   "source": [
    "log_regression_model = Pipeline(\n",
    "    steps=[(\"preprocessor\", preprocessor), (\"classifier\", LogisticRegression(max_iter=10000))])\n",
    "\n",
    "test_model(log_regression_model, data)"
   ]
  },
  {
   "cell_type": "markdown",
   "id": "1aecf1f1",
   "metadata": {},
   "source": [
    "### SGD Classifier Model"
   ]
  },
  {
   "cell_type": "code",
   "execution_count": 8,
   "id": "96fcd744",
   "metadata": {},
   "outputs": [
    {
     "name": "stdout",
     "output_type": "stream",
     "text": [
      "Train score: 0.8075539568345323\n",
      "----------------------------------------\n",
      "Test Score: 0.7846998063266624\n",
      "----------------------------------------\n",
      "Cohen's Kappa: 0.5802885949308005\n",
      "----------------------------------------\n",
      "Confusion Matrix: \n",
      "[[1266    0  266]\n",
      " [  48    0   35]\n",
      " [ 318    0 1165]]\n",
      "----------------------------------------\n",
      "Classification Report:\n",
      "              precision    recall  f1-score   support\n",
      "\n",
      "        lose       0.78      0.83      0.80      1532\n",
      "        push       0.00      0.00      0.00        83\n",
      "         win       0.79      0.79      0.79      1483\n",
      "\n",
      "    accuracy                           0.78      3098\n",
      "   macro avg       0.52      0.54      0.53      3098\n",
      "weighted avg       0.76      0.78      0.77      3098\n",
      "\n"
     ]
    }
   ],
   "source": [
    "SGDC = Pipeline(steps=[(\"preprocessor\", preprocessor), (\"classifier\", SGDClassifier(max_iter=10000))])\n",
    "\n",
    "test_model(SGDC, data)"
   ]
  },
  {
   "cell_type": "markdown",
   "id": "664572da",
   "metadata": {},
   "source": [
    "### KNeighbors Classifier Model"
   ]
  },
  {
   "cell_type": "code",
   "execution_count": 9,
   "id": "fecbc52e",
   "metadata": {},
   "outputs": [
    {
     "name": "stdout",
     "output_type": "stream",
     "text": [
      "Train score: 0.8395130049806309\n",
      "----------------------------------------\n",
      "Test Score: 0.7646868947708199\n",
      "----------------------------------------\n",
      "Cohen's Kappa: 0.5427895956200608\n",
      "----------------------------------------\n",
      "Confusion Matrix: \n",
      "[[1245    4  283]\n",
      " [  46    0   37]\n",
      " [ 351    8 1124]]\n",
      "----------------------------------------\n",
      "Classification Report:\n",
      "              precision    recall  f1-score   support\n",
      "\n",
      "        lose       0.76      0.81      0.78      1532\n",
      "        push       0.00      0.00      0.00        83\n",
      "         win       0.78      0.76      0.77      1483\n",
      "\n",
      "    accuracy                           0.76      3098\n",
      "   macro avg       0.51      0.52      0.52      3098\n",
      "weighted avg       0.75      0.76      0.76      3098\n",
      "\n"
     ]
    }
   ],
   "source": [
    "kn = Pipeline(steps=[(\"preprocessor\", preprocessor), (\"classifier\", KNeighborsClassifier())])\n",
    "\n",
    "test_model(kn, data)"
   ]
  },
  {
   "cell_type": "code",
   "execution_count": 17,
   "id": "09f2d81a",
   "metadata": {},
   "outputs": [
    {
     "name": "stdout",
     "output_type": "stream",
     "text": [
      "k: 1, Train/Test Score: 1.000/0.686\n",
      "k: 3, Train/Test Score: 0.857/0.737\n",
      "k: 5, Train/Test Score: 0.840/0.765\n",
      "k: 7, Train/Test Score: 0.824/0.772\n",
      "k: 9, Train/Test Score: 0.819/0.769\n",
      "k: 11, Train/Test Score: 0.816/0.778\n",
      "k: 13, Train/Test Score: 0.814/0.784\n",
      "k: 15, Train/Test Score: 0.814/0.791\n",
      "k: 17, Train/Test Score: 0.813/0.792\n",
      "k: 19, Train/Test Score: 0.808/0.793\n",
      "k: 21, Train/Test Score: 0.806/0.794\n",
      "k: 23, Train/Test Score: 0.806/0.795\n",
      "k: 25, Train/Test Score: 0.809/0.796\n",
      "k: 27, Train/Test Score: 0.808/0.798\n",
      "k: 29, Train/Test Score: 0.807/0.796\n",
      "k: 31, Train/Test Score: 0.806/0.794\n",
      "k: 33, Train/Test Score: 0.805/0.795\n",
      "k: 35, Train/Test Score: 0.804/0.796\n",
      "k: 37, Train/Test Score: 0.803/0.794\n",
      "k: 39, Train/Test Score: 0.802/0.793\n"
     ]
    },
    {
     "data": {
      "image/png": "[encoded data removed]",
      "text/plain": [
       "<Figure size 576x396 with 1 Axes>"
      ]
     },
     "metadata": {},
     "output_type": "display_data"
    }
   ],
   "source": [
    "# Loop through different k values to find which has the highest accuracy\n",
    "train_scores = []\n",
    "test_scores = []\n",
    "for k in range(1, 40, 2):\n",
    "    knn = Pipeline(steps=[(\"preprocessor\", preprocessor), (\"classifier\", KNeighborsClassifier(n_neighbors=k))])\n",
    "    knn.fit(X_train, y_train)\n",
    "    train_score = knn.score(X_train, y_train)\n",
    "    test_score = knn.score(X_test, y_test)\n",
    "    train_scores.append(train_score)\n",
    "    test_scores.append(test_score)\n",
    "    print(f\"k: {k}, Train/Test Score: {train_score:.3f}/{test_score:.3f}\")\n",
    "    \n",
    "    \n",
    "plt.plot(range(1, 40, 2), train_scores, marker='o')\n",
    "plt.plot(range(1, 40, 2), test_scores, marker=\"x\")\n",
    "loc, labels = plt.xticks()\n",
    "plt.xticks(np.arange(1, max(loc), step=2))\n",
    "plt.xlabel(\"k neighbors\")\n",
    "plt.ylabel(\"Testing accuracy score\")\n",
    "plt.savefig(\"../Images/kneighbors.png\")\n",
    "plt.show()"
   ]
  },
  {
   "cell_type": "code",
   "execution_count": 11,
   "id": "bd50295c",
   "metadata": {
    "scrolled": true
   },
   "outputs": [
    {
     "name": "stdout",
     "output_type": "stream",
     "text": [
      "Train score: 0.8083840619811843\n",
      "----------------------------------------\n",
      "Test Score: 0.7979341510652034\n",
      "----------------------------------------\n",
      "Cohen's Kappa: 0.6061859342024117\n",
      "----------------------------------------\n",
      "Confusion Matrix: \n",
      "[[1277    0  255]\n",
      " [  42    0   41]\n",
      " [ 288    0 1195]]\n",
      "----------------------------------------\n",
      "Classification Report:\n",
      "              precision    recall  f1-score   support\n",
      "\n",
      "        lose       0.79      0.83      0.81      1532\n",
      "        push       0.00      0.00      0.00        83\n",
      "         win       0.80      0.81      0.80      1483\n",
      "\n",
      "    accuracy                           0.80      3098\n",
      "   macro avg       0.53      0.55      0.54      3098\n",
      "weighted avg       0.78      0.80      0.79      3098\n",
      "\n"
     ]
    }
   ],
   "source": [
    "kn = Pipeline(steps=[(\"preprocessor\", preprocessor), (\"classifier\", KNeighborsClassifier(n_neighbors = 27))])\n",
    "\n",
    "test_model(kn, data)"
   ]
  },
  {
   "cell_type": "code",
   "execution_count": 16,
   "id": "3804370f",
   "metadata": {},
   "outputs": [
    {
     "data": {
      "image/png": "[encoded data removed]",
      "text/plain": [
       "<Figure size 576x396 with 1 Axes>"
      ]
     },
     "metadata": {},
     "output_type": "display_data"
    },
    {
     "data": {
      "text/plain": [
       "<matplotlib.axes._subplots.AxesSubplot at 0x7f853c0a1890>"
      ]
     },
     "execution_count": 16,
     "metadata": {},
     "output_type": "execute_result"
    }
   ],
   "source": [
    "visualizer = ROCAUC(kn, classes=[\"lose\", \"push\", \"win\"])\n",
    "\n",
    "visualizer.fit(X_train, y_train)\n",
    "visualizer.score(X_test, y_test)\n",
    "visualizer.show(outpath=\"../Images/kneighbors_rocauc.png\")\n",
    "visualizer.show()"
   ]
  },
  {
   "cell_type": "markdown",
   "id": "ae3266b9",
   "metadata": {},
   "source": [
    "### Random Forest Classifier Model"
   ]
  },
  {
   "cell_type": "code",
   "execution_count": 13,
   "id": "3cdad181",
   "metadata": {},
   "outputs": [
    {
     "name": "stdout",
     "output_type": "stream",
     "text": [
      "Train score: 1.0\n",
      "----------------------------------------\n",
      "Test Score: 0.8014848289218851\n",
      "----------------------------------------\n",
      "Cohen's Kappa: 0.6131213877409958\n",
      "----------------------------------------\n",
      "Confusion Matrix: \n",
      "[[1279    0  253]\n",
      " [  45    0   38]\n",
      " [ 279    0 1204]]\n",
      "----------------------------------------\n",
      "Classification Report:\n",
      "              precision    recall  f1-score   support\n",
      "\n",
      "        lose       0.80      0.83      0.82      1532\n",
      "        push       0.00      0.00      0.00        83\n",
      "         win       0.81      0.81      0.81      1483\n",
      "\n",
      "    accuracy                           0.80      3098\n",
      "   macro avg       0.53      0.55      0.54      3098\n",
      "weighted avg       0.78      0.80      0.79      3098\n",
      "\n"
     ]
    }
   ],
   "source": [
    "rf = Pipeline(steps=[(\"preprocessor\", preprocessor), (\"classifier\", RandomForestClassifier())])\n",
    "\n",
    "test_model(rf, data)"
   ]
  },
  {
   "cell_type": "code",
   "execution_count": 14,
   "id": "b5dae046",
   "metadata": {},
   "outputs": [
    {
     "name": "stdout",
     "output_type": "stream",
     "text": [
      "Fitting 5 folds for each of 12 candidates, totalling 60 fits\n"
     ]
    }
   ],
   "source": [
    "# Define a grid of parameters to test in the model\n",
    "# Code adapted from Finn Qiao @ \n",
    "# https://towardsdatascience.com/logistic-regression-model-tuning-with-scikit-learn-part-1-425142e01af5\n",
    "\n",
    "# Create first pipeline for base without reducing features.\n",
    "\n",
    "param_grid = [\n",
    "    {'classifier' : [LogisticRegression(max_iter = 10000)],\n",
    "     'classifier__penalty' : ['l1', 'l2']},\n",
    "    {'classifier' : [RandomForestClassifier()],\n",
    "    'classifier__n_estimators' : list(range(10,101,10))}\n",
    "]\n",
    "\n",
    "# Create grid search object\n",
    "\n",
    "clf = GridSearchCV(rf, param_grid = param_grid, cv = 5, verbose=True, n_jobs=-1)\n",
    "\n",
    "# Fit on data\n",
    "\n",
    "best_clf = clf.fit(X_train, y_train)"
   ]
  },
  {
   "cell_type": "code",
   "execution_count": 15,
   "id": "68affa83",
   "metadata": {
    "scrolled": true
   },
   "outputs": [
    {
     "name": "stdout",
     "output_type": "stream",
     "text": [
      "Fitting 5 folds for each of 12 candidates, totalling 60 fits\n",
      "Train score: 0.813918096292197\n",
      "----------------------------------------\n",
      "Test Score: 0.7989025177533893\n",
      "----------------------------------------\n",
      "Cohen's Kappa: 0.6081706915005058\n",
      "----------------------------------------\n",
      "Confusion Matrix: \n",
      "[[1265    0  267]\n",
      " [  44    0   39]\n",
      " [ 273    0 1210]]\n",
      "----------------------------------------\n",
      "Classification Report:\n",
      "              precision    recall  f1-score   support\n",
      "\n",
      "        lose       0.80      0.83      0.81      1532\n",
      "        push       0.00      0.00      0.00        83\n",
      "         win       0.80      0.82      0.81      1483\n",
      "\n",
      "    accuracy                           0.80      3098\n",
      "   macro avg       0.53      0.55      0.54      3098\n",
      "weighted avg       0.78      0.80      0.79      3098\n",
      "\n"
     ]
    }
   ],
   "source": [
    "test_model(best_clf, data)"
   ]
  },
  {
   "cell_type": "code",
   "execution_count": null,
   "id": "dd1359a9",
   "metadata": {},
   "outputs": [],
   "source": []
  }
 ],
 "metadata": {
  "kernelspec": {
   "display_name": "PythonData",
   "language": "python",
   "name": "pythondata"
  },
  "language_info": {
   "codemirror_mode": {
    "name": "ipython",
    "version": 3
   },
   "file_extension": ".py",
   "mimetype": "text/x-python",
   "name": "python",
   "nbconvert_exporter": "python",
   "pygments_lexer": "ipython3",
   "version": "3.7.7"
  },
  "toc": {
   "base_numbering": 1,
   "nav_menu": {},
   "number_sections": true,
   "sideBar": true,
   "skip_h1_title": false,
   "title_cell": "Table of Contents",
   "title_sidebar": "Contents",
   "toc_cell": false,
   "toc_position": {},
   "toc_section_display": true,
   "toc_window_display": false
  },
  "varInspector": {
   "cols": {
    "lenName": 16,
    "lenType": 16,
    "lenVar": 40
   },
   "kernels_config": {
    "python": {
     "delete_cmd_postfix": "",
     "delete_cmd_prefix": "del ",
     "library": "var_list.py",
     "varRefreshCmd": "print(var_dic_list())"
    },
    "r": {
     "delete_cmd_postfix": ") ",
     "delete_cmd_prefix": "rm(",
     "library": "var_list.r",
     "varRefreshCmd": "cat(var_dic_list()) "
    }
   },
   "position": {
    "height": "528.844px",
    "left": "1534px",
    "right": "20px",
    "top": "170px",
    "width": "332px"
   },
   "types_to_exclude": [
    "module",
    "function",
    "builtin_function_or_method",
    "instance",
    "_Feature"
   ],
   "window_display": true
  }
 },
 "nbformat": 4,
 "nbformat_minor": 5
}
